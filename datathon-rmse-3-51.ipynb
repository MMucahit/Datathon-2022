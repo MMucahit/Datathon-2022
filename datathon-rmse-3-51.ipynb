{
 "cells": [
  {
   "cell_type": "code",
   "execution_count": 1,
   "id": "6a2a20fc",
   "metadata": {
    "_cell_guid": "b1076dfc-b9ad-4769-8c92-a6c4dae69d19",
    "_uuid": "8f2839f25d086af736a60e9eeb907d3b93b6e0e5",
    "execution": {
     "iopub.execute_input": "2022-03-30T20:40:14.029733Z",
     "iopub.status.busy": "2022-03-30T20:40:14.028957Z",
     "iopub.status.idle": "2022-03-30T20:40:14.036402Z",
     "shell.execute_reply": "2022-03-30T20:40:14.035730Z",
     "shell.execute_reply.started": "2022-03-30T20:07:45.851546Z"
    },
    "papermill": {
     "duration": 0.031754,
     "end_time": "2022-03-30T20:40:14.036593",
     "exception": false,
     "start_time": "2022-03-30T20:40:14.004839",
     "status": "completed"
    },
    "tags": []
   },
   "outputs": [
    {
     "name": "stdout",
     "output_type": "stream",
     "text": [
      "/kaggle/input/datathon2022/train.csv\n",
      "/kaggle/input/datathon2022/testFeatures.csv\n",
      "/kaggle/input/datathon2022/sample_solution.csv\n"
     ]
    }
   ],
   "source": [
    "# This Python 3 environment comes with many helpful analytics libraries installed\n",
    "# It is defined by the kaggle/python Docker image: https://github.com/kaggle/docker-python\n",
    "# For example, here's several helpful packages to load\n",
    "\n",
    "import numpy as np # linear algebra\n",
    "import pandas as pd # data processing, CSV file I/O (e.g. pd.read_csv)\n",
    "\n",
    "import warnings\n",
    "warnings.filterwarnings(\"ignore\")\n",
    "\n",
    "# Input data files are available in the read-only \"../input/\" directory\n",
    "# For example, running this (by clicking run or pressing Shift+Enter) will list all files under the input directory\n",
    "\n",
    "import os\n",
    "for dirname, _, filenames in os.walk('/kaggle/input'):\n",
    "    for filename in filenames:\n",
    "        print(os.path.join(dirname, filename))\n",
    "\n",
    "# You can write up to 20GB to the current directory (/kaggle/working/) that gets preserved as output when you create a version using \"Save & Run All\" \n",
    "# You can also write temporary files to /kaggle/temp/, but they won't be saved outside of the current session"
   ]
  },
  {
   "cell_type": "code",
   "execution_count": 2,
   "id": "77197a51",
   "metadata": {
    "execution": {
     "iopub.execute_input": "2022-03-30T20:40:14.067955Z",
     "iopub.status.busy": "2022-03-30T20:40:14.067288Z",
     "iopub.status.idle": "2022-03-30T20:40:14.595403Z",
     "shell.execute_reply": "2022-03-30T20:40:14.594594Z",
     "shell.execute_reply.started": "2022-03-30T20:07:45.902003Z"
    },
    "papermill": {
     "duration": 0.546121,
     "end_time": "2022-03-30T20:40:14.595581",
     "exception": false,
     "start_time": "2022-03-30T20:40:14.049460",
     "status": "completed"
    },
    "tags": []
   },
   "outputs": [],
   "source": [
    "df = pd.read_csv('../input/datathon2022/train.csv')"
   ]
  },
  {
   "cell_type": "code",
   "execution_count": 3,
   "id": "4af491b2",
   "metadata": {
    "execution": {
     "iopub.execute_input": "2022-03-30T20:40:14.630421Z",
     "iopub.status.busy": "2022-03-30T20:40:14.629257Z",
     "iopub.status.idle": "2022-03-30T20:40:14.746849Z",
     "shell.execute_reply": "2022-03-30T20:40:14.747364Z",
     "shell.execute_reply.started": "2022-03-30T20:07:46.411666Z"
    },
    "papermill": {
     "duration": 0.139395,
     "end_time": "2022-03-30T20:40:14.747562",
     "exception": false,
     "start_time": "2022-03-30T20:40:14.608167",
     "status": "completed"
    },
    "tags": []
   },
   "outputs": [],
   "source": [
    "df['yıl'] = df['tarih'].apply(lambda x:x.split('-')[0])"
   ]
  },
  {
   "cell_type": "code",
   "execution_count": 4,
   "id": "5d45d171",
   "metadata": {
    "execution": {
     "iopub.execute_input": "2022-03-30T20:40:14.775906Z",
     "iopub.status.busy": "2022-03-30T20:40:14.774924Z",
     "iopub.status.idle": "2022-03-30T20:40:14.921994Z",
     "shell.execute_reply": "2022-03-30T20:40:14.921344Z",
     "shell.execute_reply.started": "2022-03-30T20:11:01.123271Z"
    },
    "papermill": {
     "duration": 0.162611,
     "end_time": "2022-03-30T20:40:14.922136",
     "exception": false,
     "start_time": "2022-03-30T20:40:14.759525",
     "status": "completed"
    },
    "tags": []
   },
   "outputs": [
    {
     "name": "stdout",
     "output_type": "stream",
     "text": [
      "0.25288307117136655\n",
      "0.3167789653127989\n",
      "0.31612053960777364\n",
      "0.2659548514076295\n"
     ]
    }
   ],
   "source": [
    "_df = df.pivot_table(values='ürün fiyatı',index='ürün kategorisi',columns='yıl',aggfunc='mean')\n",
    "\n",
    "_list = ['2016','2017','2018','2019','2020']\n",
    "\n",
    "for i in _list:\n",
    "    if i == '2020':\n",
    "        break\n",
    "    print(((_df[str(int(i) + 1)] - _df[i]) / _df[i]).mean())"
   ]
  },
  {
   "cell_type": "code",
   "execution_count": 5,
   "id": "5ab481e1",
   "metadata": {
    "execution": {
     "iopub.execute_input": "2022-03-30T20:40:14.951225Z",
     "iopub.status.busy": "2022-03-30T20:40:14.949309Z",
     "iopub.status.idle": "2022-03-30T20:40:14.953447Z",
     "shell.execute_reply": "2022-03-30T20:40:14.953925Z"
    },
    "papermill": {
     "duration": 0.019719,
     "end_time": "2022-03-30T20:40:14.954115",
     "exception": false,
     "start_time": "2022-03-30T20:40:14.934396",
     "status": "completed"
    },
    "tags": []
   },
   "outputs": [],
   "source": [
    "## Bir sonraki seneye göre fiyatlar ortalama olarak bir oranda artmış.\n",
    "## Mesela 2016 verilerinin hepsini .25 ile çarptığımızda rmse değeri 0.49 çıkıyor.\n",
    "## Buradan anlıyoruz ki 2021 değerleride 2020 değerlerinin bir sayı ile çarpımı olucak.\n",
    "## Buradan sonra geriye bu oranı bulmak kalıyor. Biz 0.51 değerini optimum bulabildik.\n",
    "## 2020 değerlerinin 0.51 ile çarptığımızda rmse değeri 3.51 çıktı."
   ]
  },
  {
   "cell_type": "code",
   "execution_count": 6,
   "id": "3fb54baf",
   "metadata": {
    "execution": {
     "iopub.execute_input": "2022-03-30T20:40:14.985040Z",
     "iopub.status.busy": "2022-03-30T20:40:14.984288Z",
     "iopub.status.idle": "2022-03-30T20:40:16.216048Z",
     "shell.execute_reply": "2022-03-30T20:40:16.216512Z",
     "shell.execute_reply.started": "2022-03-30T20:15:04.387295Z"
    },
    "papermill": {
     "duration": 1.250273,
     "end_time": "2022-03-30T20:40:16.216718",
     "exception": false,
     "start_time": "2022-03-30T20:40:14.966445",
     "status": "completed"
    },
    "tags": []
   },
   "outputs": [
    {
     "data": {
      "text/plain": [
       "0.49409608427692187"
      ]
     },
     "execution_count": 6,
     "metadata": {},
     "output_type": "execute_result"
    }
   ],
   "source": [
    "from sklearn.metrics import mean_squared_error\n",
    "\n",
    "predict_2017 = df[df['yıl'] == '2016']['ürün fiyatı'].apply(lambda x: (x * 0.25288307117136655) + x)\n",
    "actual_2017 = df[df['yıl'] == '2017']['ürün fiyatı']\n",
    "\n",
    "mean_squared_error(actual_2017, predict_2017, squared=False)"
   ]
  },
  {
   "cell_type": "code",
   "execution_count": 7,
   "id": "0d1148c5",
   "metadata": {
    "execution": {
     "iopub.execute_input": "2022-03-30T20:40:16.246699Z",
     "iopub.status.busy": "2022-03-30T20:40:16.245609Z",
     "iopub.status.idle": "2022-03-30T20:40:27.389875Z",
     "shell.execute_reply": "2022-03-30T20:40:27.389161Z",
     "shell.execute_reply.started": "2022-03-30T17:08:48.516565Z"
    },
    "papermill": {
     "duration": 11.160582,
     "end_time": "2022-03-30T20:40:27.390048",
     "exception": false,
     "start_time": "2022-03-30T20:40:16.229466",
     "status": "completed"
    },
    "tags": []
   },
   "outputs": [],
   "source": [
    "## et\n",
    "_list = ['C','D','H']\n",
    "for i in _list:\n",
    "    index = df[df['yıl'] == '2020'][df['ürün kategorisi'] == 'et'][df['şehir'] == i]['ürün fiyatı'].index\n",
    "    values = df[df['yıl'] == '2020'][df['ürün kategorisi'] == 'et'][df['şehir'] == i]['ürün fiyatı'].apply(lambda x: (x*0.51) + x)\n",
    "    df.loc[index, '2021'] = values\n",
    "\n",
    "__list = ['E','F','G']\n",
    "for i in __list:\n",
    "    index = df[df['yıl'] == '2020'][df['ürün kategorisi'] == 'et'][df['şehir'] == i]['ürün fiyatı'].index\n",
    "    values = df[df['yıl'] == '2020'][df['ürün kategorisi'] == 'et'][df['şehir'] == i]['ürün fiyatı'].apply(lambda x: (x*0.49) + x)\n",
    "    df.loc[index, '2021'] = values\n",
    "\n",
    "index = df[df['yıl'] == '2020'][df['ürün kategorisi'] == 'et'][df['şehir'] == 'A']['ürün fiyatı'].index\n",
    "values = df[df['yıl'] == '2020'][df['ürün kategorisi'] == 'et'][df['şehir'] == 'A']['ürün fiyatı'].apply(lambda x: (x*0.5) + x)\n",
    "df.loc[index, '2021'] = values\n",
    "\n",
    "index = df[df['yıl'] == '2020'][df['ürün kategorisi'] == 'et'][df['şehir'] == 'B']['ürün fiyatı'].index\n",
    "values = df[df['yıl'] == '2020'][df['ürün kategorisi'] == 'et'][df['şehir'] == 'B']['ürün fiyatı'].apply(lambda x: (x*0.52) + x)\n",
    "df.loc[index, '2021'] = values    \n",
    "\n",
    "## kuruyemiş\n",
    "___list = ['A','B','C','D','E','F']\n",
    "for i in ___list:\n",
    "    index = df[df['yıl'] == '2020'][df['ürün kategorisi'] == 'kuruyemiş'][df['şehir'] == i]['ürün fiyatı'].index\n",
    "    values = df[df['yıl'] == '2020'][df['ürün kategorisi'] == 'kuruyemiş'][df['şehir'] == i]['ürün fiyatı'].apply(lambda x: (x*0.5) + x)\n",
    "    df.loc[index, '2021'] = values\n",
    "\n",
    "index = df[df['yıl'] == '2020'][df['ürün kategorisi'] == 'kuruyemiş'][df['şehir'] == 'G']['ürün fiyatı'].index\n",
    "values = df[df['yıl'] == '2020'][df['ürün kategorisi'] == 'kuruyemiş'][df['şehir'] == 'G']['ürün fiyatı'].apply(lambda x: (x*0.51) + x)\n",
    "df.loc[index, '2021'] = values\n",
    "\n",
    "index = df[df['yıl'] == '2020'][df['ürün kategorisi'] == 'kuruyemiş'][df['şehir'] == 'H']['ürün fiyatı'].index\n",
    "values = df[df['yıl'] == '2020'][df['ürün kategorisi'] == 'kuruyemiş'][df['şehir'] == 'H']['ürün fiyatı'].apply(lambda x: (x*0.51) + x)\n",
    "df.loc[index, '2021'] = values   \n",
    "\n",
    "## süt ürünleri ve kahvaltılık\n",
    "____list = ['A','D','E','F','G','H']\n",
    "for i in ____list:\n",
    "    index = df[df['yıl'] == '2020'][df['ürün kategorisi'] == 'süt ürünleri ve kahvaltılık'][df['şehir'] == i]['ürün fiyatı'].index\n",
    "    values = df[df['yıl'] == '2020'][df['ürün kategorisi'] == 'süt ürünleri ve kahvaltılık'][df['şehir'] == i]['ürün fiyatı'].apply(lambda x: (x*0.51) + x)\n",
    "    df.loc[index, '2021'] = values  \n",
    "\n",
    "index = df[df['yıl'] == '2020'][df['ürün kategorisi'] == 'süt ürünleri ve kahvaltılık'][df['şehir'] == 'B']['ürün fiyatı'].index\n",
    "values = df[df['yıl'] == '2020'][df['ürün kategorisi'] == 'süt ürünleri ve kahvaltılık'][df['şehir'] == 'B']['ürün fiyatı'].apply(lambda x: (x*0.52) + x)\n",
    "df.loc[index, '2021'] = values\n",
    "\n",
    "index = df[df['yıl'] == '2020'][df['ürün kategorisi'] == 'süt ürünleri ve kahvaltılık'][df['şehir'] == 'C']['ürün fiyatı'].index\n",
    "values = df[df['yıl'] == '2020'][df['ürün kategorisi'] == 'süt ürünleri ve kahvaltılık'][df['şehir'] == 'C']['ürün fiyatı'].apply(lambda x: (x*0.52) + x)\n",
    "df.loc[index, '2021'] = values   \n",
    "\n",
    "## tahıl ve ürünleri\n",
    "_____list = ['A','B','C','D','F','G','H']\n",
    "for i in _____list:\n",
    "    index = df[df['yıl'] == '2020'][df['ürün kategorisi'] == 'tahıl ve ürünleri'][df['şehir'] == i]['ürün fiyatı'].index\n",
    "    values = df[df['yıl'] == '2020'][df['ürün kategorisi'] == 'tahıl ve ürünleri'][df['şehir'] == i]['ürün fiyatı'].apply(lambda x: (x*0.51) + x)\n",
    "    df.loc[index, '2021'] = values \n",
    "\n",
    "index = df[df['yıl'] == '2020'][df['ürün kategorisi'] == 'tahıl ve ürünleri'][df['şehir'] == 'E']['ürün fiyatı'].index\n",
    "values = df[df['yıl'] == '2020'][df['ürün kategorisi'] == 'tahıl ve ürünleri'][df['şehir'] == 'E']['ürün fiyatı'].apply(lambda x: (x*0.52) + x)\n",
    "df.loc[index, '2021'] = values   \n",
    "\n",
    "## sebze ve bakliyat\n",
    "______list = ['A','B','C','D','E','F','G','H']\n",
    "for i in ______list:\n",
    "    index = df[df['yıl'] == '2020'][df['ürün kategorisi'] == 'sebze ve bakliyat'][df['şehir'] == i]['ürün fiyatı'].index\n",
    "    values = df[df['yıl'] == '2020'][df['ürün kategorisi'] == 'sebze ve bakliyat'][df['şehir'] == i]['ürün fiyatı'].apply(lambda x: (x*0.51) + x)\n",
    "    df.loc[index, '2021'] = values \n",
    "\n",
    "## meyve\n",
    "for i in ______list:\n",
    "    index = df[df['yıl'] == '2020'][df['ürün kategorisi'] == 'meyve'][df['şehir'] == i]['ürün fiyatı'].index\n",
    "    values = df[df['yıl'] == '2020'][df['ürün kategorisi'] == 'meyve'][df['şehir'] == i]['ürün fiyatı'].apply(lambda x: (x*0.51) + x)\n",
    "    df.loc[index, '2021'] = values "
   ]
  },
  {
   "cell_type": "code",
   "execution_count": 8,
   "id": "f3e6e686",
   "metadata": {
    "execution": {
     "iopub.execute_input": "2022-03-30T20:40:27.458684Z",
     "iopub.status.busy": "2022-03-30T20:40:27.457416Z",
     "iopub.status.idle": "2022-03-30T20:40:27.465785Z",
     "shell.execute_reply": "2022-03-30T20:40:27.465218Z",
     "shell.execute_reply.started": "2022-03-30T17:08:59.879912Z"
    },
    "papermill": {
     "duration": 0.06272,
     "end_time": "2022-03-30T20:40:27.465932",
     "exception": false,
     "start_time": "2022-03-30T20:40:27.403212",
     "status": "completed"
    },
    "tags": []
   },
   "outputs": [],
   "source": [
    "predict = df[df['yıl'] == '2020']['2021']"
   ]
  },
  {
   "cell_type": "code",
   "execution_count": 9,
   "id": "4e2310ae",
   "metadata": {
    "execution": {
     "iopub.execute_input": "2022-03-30T20:40:27.502330Z",
     "iopub.status.busy": "2022-03-30T20:40:27.501619Z",
     "iopub.status.idle": "2022-03-30T20:40:27.636355Z",
     "shell.execute_reply": "2022-03-30T20:40:27.635782Z",
     "shell.execute_reply.started": "2022-03-30T17:08:59.928653Z"
    },
    "papermill": {
     "duration": 0.157691,
     "end_time": "2022-03-30T20:40:27.636515",
     "exception": false,
     "start_time": "2022-03-30T20:40:27.478824",
     "status": "completed"
    },
    "tags": []
   },
   "outputs": [],
   "source": [
    "submit = pd.DataFrame({'id': range(len(predict)), 'ürün fiyatı': predict})\n",
    "submit.to_csv('submission.csv',index=False)"
   ]
  },
  {
   "cell_type": "code",
   "execution_count": 10,
   "id": "73aff64f",
   "metadata": {
    "execution": {
     "iopub.execute_input": "2022-03-30T20:40:27.668965Z",
     "iopub.status.busy": "2022-03-30T20:40:27.668270Z",
     "iopub.status.idle": "2022-03-30T20:40:27.681262Z",
     "shell.execute_reply": "2022-03-30T20:40:27.681780Z",
     "shell.execute_reply.started": "2022-03-30T17:09:00.077575Z"
    },
    "papermill": {
     "duration": 0.032234,
     "end_time": "2022-03-30T20:40:27.681972",
     "exception": false,
     "start_time": "2022-03-30T20:40:27.649738",
     "status": "completed"
    },
    "tags": []
   },
   "outputs": [
    {
     "data": {
      "text/html": [
       "<div>\n",
       "<style scoped>\n",
       "    .dataframe tbody tr th:only-of-type {\n",
       "        vertical-align: middle;\n",
       "    }\n",
       "\n",
       "    .dataframe tbody tr th {\n",
       "        vertical-align: top;\n",
       "    }\n",
       "\n",
       "    .dataframe thead th {\n",
       "        text-align: right;\n",
       "    }\n",
       "</style>\n",
       "<table border=\"1\" class=\"dataframe\">\n",
       "  <thead>\n",
       "    <tr style=\"text-align: right;\">\n",
       "      <th></th>\n",
       "      <th>id</th>\n",
       "      <th>ürün fiyatı</th>\n",
       "    </tr>\n",
       "  </thead>\n",
       "  <tbody>\n",
       "    <tr>\n",
       "      <th>182016</th>\n",
       "      <td>0</td>\n",
       "      <td>132.7800</td>\n",
       "    </tr>\n",
       "    <tr>\n",
       "      <th>182017</th>\n",
       "      <td>1</td>\n",
       "      <td>46.1550</td>\n",
       "    </tr>\n",
       "    <tr>\n",
       "      <th>182018</th>\n",
       "      <td>2</td>\n",
       "      <td>48.6750</td>\n",
       "    </tr>\n",
       "    <tr>\n",
       "      <th>182019</th>\n",
       "      <td>3</td>\n",
       "      <td>27.2404</td>\n",
       "    </tr>\n",
       "    <tr>\n",
       "      <th>182020</th>\n",
       "      <td>4</td>\n",
       "      <td>48.6824</td>\n",
       "    </tr>\n",
       "    <tr>\n",
       "      <th>...</th>\n",
       "      <td>...</td>\n",
       "      <td>...</td>\n",
       "    </tr>\n",
       "    <tr>\n",
       "      <th>227515</th>\n",
       "      <td>45499</td>\n",
       "      <td>77.2969</td>\n",
       "    </tr>\n",
       "    <tr>\n",
       "      <th>227516</th>\n",
       "      <td>45500</td>\n",
       "      <td>83.2614</td>\n",
       "    </tr>\n",
       "    <tr>\n",
       "      <th>227517</th>\n",
       "      <td>45501</td>\n",
       "      <td>88.4860</td>\n",
       "    </tr>\n",
       "    <tr>\n",
       "      <th>227518</th>\n",
       "      <td>45502</td>\n",
       "      <td>78.2633</td>\n",
       "    </tr>\n",
       "    <tr>\n",
       "      <th>227519</th>\n",
       "      <td>45503</td>\n",
       "      <td>86.4022</td>\n",
       "    </tr>\n",
       "  </tbody>\n",
       "</table>\n",
       "<p>45504 rows × 2 columns</p>\n",
       "</div>"
      ],
      "text/plain": [
       "           id  ürün fiyatı\n",
       "182016      0     132.7800\n",
       "182017      1      46.1550\n",
       "182018      2      48.6750\n",
       "182019      3      27.2404\n",
       "182020      4      48.6824\n",
       "...       ...          ...\n",
       "227515  45499      77.2969\n",
       "227516  45500      83.2614\n",
       "227517  45501      88.4860\n",
       "227518  45502      78.2633\n",
       "227519  45503      86.4022\n",
       "\n",
       "[45504 rows x 2 columns]"
      ]
     },
     "execution_count": 10,
     "metadata": {},
     "output_type": "execute_result"
    }
   ],
   "source": [
    "submit"
   ]
  }
 ],
 "metadata": {
  "kernelspec": {
   "display_name": "Python 3",
   "language": "python",
   "name": "python3"
  },
  "language_info": {
   "codemirror_mode": {
    "name": "ipython",
    "version": 3
   },
   "file_extension": ".py",
   "mimetype": "text/x-python",
   "name": "python",
   "nbconvert_exporter": "python",
   "pygments_lexer": "ipython3",
   "version": "3.7.12"
  },
  "papermill": {
   "default_parameters": {},
   "duration": 24.892845,
   "end_time": "2022-03-30T20:40:28.407733",
   "environment_variables": {},
   "exception": null,
   "input_path": "__notebook__.ipynb",
   "output_path": "__notebook__.ipynb",
   "parameters": {},
   "start_time": "2022-03-30T20:40:03.514888",
   "version": "2.3.3"
  }
 },
 "nbformat": 4,
 "nbformat_minor": 5
}
